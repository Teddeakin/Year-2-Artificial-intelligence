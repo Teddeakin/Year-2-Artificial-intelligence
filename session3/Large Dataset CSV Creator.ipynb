{
 "cells": [
  {
   "cell_type": "markdown",
   "metadata": {},
   "source": [
    "# large_dataset.csv creator\n",
    "\n",
    "```\n",
    "Warning: creates a 20MB csv file to be used for memory optimisation tests\n",
    "\n",
    "500,000 rows of data.\n",
    "```"
   ]
  },
  {
   "cell_type": "code",
   "execution_count": 13,
   "metadata": {},
   "outputs": [],
   "source": [
    "# Import necessary libraries\n",
    "import pandas as pd\n",
    "from faker import Faker\n",
    "\n",
    "# Initialise faker generator\n",
    "fake = Faker()\n",
    "\n",
    "# Define the number of data points\n",
    "num_data_points = 10**5*5\n",
    "\n",
    "# Create a DataFrame with user shopping data\n",
    "df = pd.DataFrame({\n",
    "    'Timestamp': pd.date_range(start='1/1/2020', periods=num_data_points, freq='S'),\n",
    "    'User_ID': ['User_{}'.format(i) for i in range(num_data_points)],\n",
    "    'User_Name': [fake.name() for _ in range(num_data_points)],\n",
    "    'Product_ID': ['Product_{}'.format(i) for i in range(num_data_points)],\n",
    "    'Product_Name': [fake.catch_phrase() for _ in range(num_data_points)],\n",
    "    'Quantity': [fake.random_int(min=1, max=20) for _ in range(num_data_points)]\n",
    "})\n",
    "\n",
    "# Save the DataFrame to a CSV file\n",
    "df.to_csv('large_dataset.csv', index=False)\n"
   ]
  }
 ],
 "metadata": {
  "kernelspec": {
   "display_name": "Python 3",
   "language": "python",
   "name": "python3"
  },
  "language_info": {
   "codemirror_mode": {
    "name": "ipython",
    "version": 3
   },
   "file_extension": ".py",
   "mimetype": "text/x-python",
   "name": "python",
   "nbconvert_exporter": "python",
   "pygments_lexer": "ipython3",
   "version": "3.11.3"
  }
 },
 "nbformat": 4,
 "nbformat_minor": 2
}
